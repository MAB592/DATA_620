{
 "cells": [
  {
   "cell_type": "markdown",
   "metadata": {},
   "source": [
    "## DATA 620 HW1\n",
    "Daina Bouquin"
   ]
  },
  {
   "cell_type": "code",
   "execution_count": 1,
   "metadata": {
    "collapsed": true
   },
   "outputs": [],
   "source": [
    "import matplotlib.pyplot as plt\n",
    "import networkx as nx"
   ]
  },
  {
   "cell_type": "code",
   "execution_count": 36,
   "metadata": {
    "collapsed": false
   },
   "outputs": [
    {
     "data": {
      "image/png": "[encoded data removed]",
      "text/plain": [
       "<matplotlib.figure.Figure at 0x10bdbe690>"
      ]
     },
     "metadata": {},
     "output_type": "display_data"
    }
   ],
   "source": [
    "%matplotlib inline\n",
    "\n",
    "G=nx.Graph()\n",
    "\n",
    "# create edges\n",
    "G.add_edge('andre','beverly')\n",
    "G.add_edge('andre','carol')\n",
    "G.add_edge('andre','diane')\n",
    "G.add_edge('beverly','andre')\n",
    "G.add_edge('beverly','diane')\n",
    "G.add_edge('beverly','ed')\n",
    "G.add_edge('carol','andre')\n",
    "G.add_edge('carol','diane')\n",
    "G.add_edge('carol','fernando')\n",
    "G.add_edge('fernando','garth')\n",
    "G.add_edge('fernando','diane')\n",
    "G.add_edge('fernando','carol')\n",
    "G.add_edge('garth','ed')\n",
    "G.add_edge('garth','diane')\n",
    "G.add_edge('garth','fernando')\n",
    "G.add_edge('garth','heather')\n",
    "G.add_edge('ed','beverly')\n",
    "G.add_edge('ed','diane')\n",
    "G.add_edge('ed','garth')\n",
    "G.add_edge('heather','fernando')\n",
    "G.add_edge('heather','garth')\n",
    "G.add_edge('heather','ike')\n",
    "G.add_edge('ike','heather')\n",
    "G.add_edge('ike','jane')\n",
    "G.add_edge('jane','ike')\n",
    "\n",
    "# Set node positions explicitly \n",
    "pos={'andre':(0,1),\n",
    "     'beverly':(0,-1),\n",
    "     'carol':(1,2),\n",
    "     'diane':(1,0),\n",
    "     'ed':(1,-2),\n",
    "     'ike':(4,0),\n",
    "     'garth':(2,-1),\n",
    "     'jane':(5,0),\n",
    "     'fernando':(2,1),\n",
    "     'heather':(3,0)}\n",
    "\n",
    "# nodes\n",
    "nx.draw_networkx_nodes(G,pos,node_size=800, node_color='c')\n",
    "\n",
    "# edges\n",
    "nx.draw_networkx_edges(G,pos,alpha=0.5,width=6)\n",
    "\n",
    "# labels\n",
    "nx.draw_networkx_labels(G,pos,font_size=15,font_family='sans-serif')\n",
    "\n",
    "plt.axis('off')\n",
    "plt.show() # display"
   ]
  }
 ],
 "metadata": {
  "kernelspec": {
   "display_name": "Python 2",
   "language": "python",
   "name": "python2"
  },
  "language_info": {
   "codemirror_mode": {
    "name": "ipython",
    "version": 2
   },
   "file_extension": ".py",
   "mimetype": "text/x-python",
   "name": "python",
   "nbconvert_exporter": "python",
   "pygments_lexer": "ipython2",
   "version": "2.7.12"
  }
 },
 "nbformat": 4,
 "nbformat_minor": 0
}
