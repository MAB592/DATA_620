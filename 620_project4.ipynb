{
 "cells": [
  {
   "cell_type": "markdown",
   "metadata": {},
   "source": [
    "## DATA 620 - Project 4\n",
    "### Daina Bouquin"
   ]
  },
  {
   "cell_type": "markdown",
   "metadata": {},
   "source": [
    "### Your assignment in Project 4 is to answer either 6.10 exercise 3 or 6.10 exercise 4 from Natural Language Processing with Python.\n",
    "\n",
    "#### 4. Using the movie review document classifier discussed in this chapter, generate a list of the 30 features that the classifier finds to be most informative. Can you explain why these particular features are informative? Do you find any of them surprising?"
   ]
  },
  {
   "cell_type": "code",
   "execution_count": 21,
   "metadata": {
    "collapsed": true
   },
   "outputs": [],
   "source": [
    "import nltk\n",
    "from nltk.corpus import movie_reviews\n",
    "import pandas as pd\n",
    "import sklearn as sk\n",
    "import random"
   ]
  },
  {
   "cell_type": "code",
   "execution_count": 22,
   "metadata": {
    "collapsed": false
   },
   "outputs": [
    {
     "data": {
      "text/plain": [
       "[u'sucess',\n",
       " u'sonja',\n",
       " u'askew',\n",
       " u'woods',\n",
       " u'spiders',\n",
       " u'bazooms',\n",
       " u'hanging',\n",
       " u'francesca',\n",
       " u'comically',\n",
       " u'localized',\n",
       " u'disobeying',\n",
       " u'hennings',\n",
       " u'canet',\n",
       " u'scold',\n",
       " u'originality']"
      ]
     },
     "execution_count": 22,
     "metadata": {},
     "output_type": "execute_result"
    }
   ],
   "source": [
    "# Find the top 1000 words in all movie reviews\n",
    "\n",
    "words = movie_reviews.words()\n",
    "all_words = nltk.FreqDist(w.lower() for w in words) # sorted most popular {words: freq}\n",
    "word_features = all_words.keys()[:1000] # more words slows down the training\n",
    "\n",
    "# example of results\n",
    "word_features[:15]"
   ]
  },
  {
   "cell_type": "code",
   "execution_count": 23,
   "metadata": {
    "collapsed": false
   },
   "outputs": [],
   "source": [
    "# build list of words and their positive/negative classification from the reviews\n",
    "\n",
    "documents = [(list(movie_reviews.words(fileid)), category)\n",
    "             for category in movie_reviews.categories()\n",
    "             for fileid in movie_reviews.fileids(category)]"
   ]
  },
  {
   "cell_type": "code",
   "execution_count": 24,
   "metadata": {
    "collapsed": true
   },
   "outputs": [],
   "source": [
    "# Create feature set/class for each review against list of top 1000 words\n",
    "# Extract words from document\n",
    "\n",
    "def doc_features(document): # [_document-classify-extractor]\n",
    "    doc_words = set(document) # [_document-classify-set]\n",
    "    features = {}\n",
    "    for word in word_features:\n",
    "        features['contains({})'.format(word)] = (word in doc_words)\n",
    "    return features\n",
    "\n",
    "featuresets = [(doc_features(d), c) for (d,c) in documents] "
   ]
  },
  {
   "cell_type": "code",
   "execution_count": 25,
   "metadata": {
    "collapsed": false
   },
   "outputs": [],
   "source": [
    "# Split to create training and test data\n",
    "train_set = featuresets[100:]\n",
    "test_set = featuresets[:100]"
   ]
  },
  {
   "cell_type": "code",
   "execution_count": 26,
   "metadata": {
    "collapsed": true
   },
   "outputs": [],
   "source": [
    "# Train using Naive Bayes classifier\n",
    "random.seed(4321)\n",
    "classifier = nltk.NaiveBayesClassifier.train(train_set)"
   ]
  },
  {
   "cell_type": "code",
   "execution_count": 27,
   "metadata": {
    "collapsed": false
   },
   "outputs": [
    {
     "name": "stdout",
     "output_type": "stream",
     "text": [
      "Most Informative Features\n",
      "    contains(mediocrity) = True              neg : pos    =      8.5 : 1.0\n",
      "        contains(fabric) = True              pos : neg    =      5.7 : 1.0\n",
      "     contains(uplifting) = True              pos : neg    =      5.5 : 1.0\n",
      "        contains(doubts) = True              pos : neg    =      5.2 : 1.0\n",
      "  contains(accomplishes) = True              pos : neg    =      5.1 : 1.0\n",
      "       contains(topping) = True              pos : neg    =      5.1 : 1.0\n",
      "  contains(effortlessly) = True              pos : neg    =      5.0 : 1.0\n",
      "         contains(locks) = True              neg : pos    =      4.8 : 1.0\n",
      "           contains(wcw) = True              neg : pos    =      4.1 : 1.0\n",
      "       contains(maxwell) = True              neg : pos    =      4.1 : 1.0\n",
      "        contains(minnie) = True              pos : neg    =      4.0 : 1.0\n",
      "      contains(matheson) = True              pos : neg    =      3.9 : 1.0\n",
      "          contains(wang) = True              pos : neg    =      3.9 : 1.0\n",
      "     contains(sumptuous) = True              pos : neg    =      3.8 : 1.0\n",
      "       contains(admired) = True              pos : neg    =      3.7 : 1.0\n",
      "      contains(attorney) = True              pos : neg    =      3.5 : 1.0\n",
      "      contains(troubles) = True              pos : neg    =      3.4 : 1.0\n",
      "       contains(nebbish) = True              neg : pos    =      3.3 : 1.0\n",
      "           contains(hal) = True              neg : pos    =      3.3 : 1.0\n",
      "          contains(olds) = True              neg : pos    =      3.3 : 1.0\n",
      "     contains(sickening) = True              neg : pos    =      3.3 : 1.0\n",
      "   contains(unabashedly) = True              neg : pos    =      3.3 : 1.0\n",
      "     contains(torpedoes) = True              neg : pos    =      3.3 : 1.0\n",
      "       contains(bandits) = True              pos : neg    =      3.3 : 1.0\n",
      "     contains(wednesday) = True              pos : neg    =      3.3 : 1.0\n",
      "   contains(voyeuristic) = True              pos : neg    =      3.3 : 1.0\n",
      "          contains(caan) = True              neg : pos    =      3.1 : 1.0\n",
      "          contains(rico) = True              pos : neg    =      3.1 : 1.0\n",
      "     contains(portrayed) = True              pos : neg    =      3.1 : 1.0\n",
      "         contains(crowe) = True              pos : neg    =      3.0 : 1.0\n"
     ]
    }
   ],
   "source": [
    "# 30 most imporant features\n",
    "classifier.show_most_informative_features(30)"
   ]
  },
  {
   "cell_type": "markdown",
   "metadata": {},
   "source": [
    "### Can you explain why these particular features are informative? Do you find any of them surprising"
   ]
  },
  {
   "cell_type": "markdown",
   "metadata": {},
   "source": [
    "There were a number of unsurprising features that are relatively informative. A few examples are:\n",
    "\n",
    "**Mediocrity | negative**: There would be not positive reviews      \n",
    "** Uplifting | positive**: \"Uplifitng\" I would think would mean the movie was well-reviewed.   \n",
    "**Accomplishes | positive**: Implies that the creator/director/actors accomplished what they were aiming for.   \n",
    "**Effortlessly | positive**: Overtly positive    \n",
    "**Sickening | negative**: Good movies aren't usually described as sickening   \n",
    "**Topping | positive**: As in \"topping the charts\"   \n",
    "**Admired | positive**: Also positive   \n",
    "\n",
    "There were though some surprising finds: \n",
    "   \n",
    "**Maxwell | negative**: I'm not sure who Maxwell is but he seems to be disliked.   \n",
    "**Locks| negative**: Why \"locks\" would be as negative and important is a bit opaque to me.   \n",
    "**Fabric | positive**: \"Fabric of...\" may be a phrase used often in reviews    \n",
    "**Torpedoes | negative**: Likely often used as a verb      \n",
    "**Bandits | positive**: People like bandits?   \n",
    "**WCW | negative**: Woman crush Wednesday?     "
   ]
  }
 ],
 "metadata": {
  "anaconda-cloud": {},
  "kernelspec": {
   "display_name": "Python [Root]",
   "language": "python",
   "name": "Python [Root]"
  },
  "language_info": {
   "codemirror_mode": {
    "name": "ipython",
    "version": 2
   },
   "file_extension": ".py",
   "mimetype": "text/x-python",
   "name": "python",
   "nbconvert_exporter": "python",
   "pygments_lexer": "ipython2",
   "version": "2.7.12"
  }
 },
 "nbformat": 4,
 "nbformat_minor": 0
}
